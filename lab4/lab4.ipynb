{
 "cells": [
  {
   "cell_type": "code",
   "execution_count": 1,
   "metadata": {},
   "outputs": [],
   "source": [
    "import numpy as np\n",
    "import matplotlib.pyplot as plt\n",
    "import pandas as pd\n",
    "from sklearn.preprocessing import LabelEncoder, OneHotEncoder\n",
    "\n",
    "data = pd.read_csv('data/hmeq.csv')"
   ]
  },
  {
   "cell_type": "code",
   "execution_count": 2,
   "metadata": {},
   "outputs": [
    {
     "data": {
      "text/plain": [
       "BAD        0\n",
       "LOAN       0\n",
       "MORTDUE    0\n",
       "VALUE      0\n",
       "REASON     0\n",
       "JOB        0\n",
       "YOJ        0\n",
       "DEROG      0\n",
       "DELINQ     0\n",
       "CLAGE      0\n",
       "NINQ       0\n",
       "CLNO       0\n",
       "DEBTINC    0\n",
       "dtype: int64"
      ]
     },
     "execution_count": 2,
     "metadata": {},
     "output_type": "execute_result"
    }
   ],
   "source": [
    "data.dropna(inplace=True)\n",
    "data.isnull().sum()"
   ]
  },
  {
   "cell_type": "code",
   "execution_count": 3,
   "metadata": {},
   "outputs": [
    {
     "data": {
      "text/plain": [
       "BAD\n",
       "0    3064\n",
       "1     300\n",
       "dtype: int64"
      ]
     },
     "execution_count": 3,
     "metadata": {},
     "output_type": "execute_result"
    }
   ],
   "source": [
    "data = data.drop('VALUE', 1)\n",
    "data.groupby('BAD').size()"
   ]
  },
  {
   "cell_type": "code",
   "execution_count": 4,
   "metadata": {},
   "outputs": [
    {
     "data": {
      "text/html": [
       "<div>\n",
       "<style scoped>\n",
       "    .dataframe tbody tr th:only-of-type {\n",
       "        vertical-align: middle;\n",
       "    }\n",
       "\n",
       "    .dataframe tbody tr th {\n",
       "        vertical-align: top;\n",
       "    }\n",
       "\n",
       "    .dataframe thead th {\n",
       "        text-align: right;\n",
       "    }\n",
       "</style>\n",
       "<table border=\"1\" class=\"dataframe\">\n",
       "  <thead>\n",
       "    <tr style=\"text-align: right;\">\n",
       "      <th></th>\n",
       "      <th>BAD</th>\n",
       "      <th>LOAN</th>\n",
       "      <th>MORTDUE</th>\n",
       "      <th>REASON</th>\n",
       "      <th>JOB</th>\n",
       "      <th>YOJ</th>\n",
       "      <th>DEROG</th>\n",
       "      <th>DELINQ</th>\n",
       "      <th>CLAGE</th>\n",
       "      <th>NINQ</th>\n",
       "      <th>CLNO</th>\n",
       "      <th>DEBTINC</th>\n",
       "    </tr>\n",
       "  </thead>\n",
       "  <tbody>\n",
       "    <tr>\n",
       "      <th>5</th>\n",
       "      <td>1</td>\n",
       "      <td>1700</td>\n",
       "      <td>30548.0</td>\n",
       "      <td>HomeImp</td>\n",
       "      <td>Other</td>\n",
       "      <td>9.0</td>\n",
       "      <td>0.0</td>\n",
       "      <td>0.0</td>\n",
       "      <td>101.466002</td>\n",
       "      <td>1.0</td>\n",
       "      <td>8.0</td>\n",
       "      <td>37.113614</td>\n",
       "    </tr>\n",
       "    <tr>\n",
       "      <th>7</th>\n",
       "      <td>1</td>\n",
       "      <td>1800</td>\n",
       "      <td>28502.0</td>\n",
       "      <td>HomeImp</td>\n",
       "      <td>Other</td>\n",
       "      <td>11.0</td>\n",
       "      <td>0.0</td>\n",
       "      <td>0.0</td>\n",
       "      <td>88.766030</td>\n",
       "      <td>0.0</td>\n",
       "      <td>8.0</td>\n",
       "      <td>36.884894</td>\n",
       "    </tr>\n",
       "    <tr>\n",
       "      <th>19</th>\n",
       "      <td>0</td>\n",
       "      <td>2300</td>\n",
       "      <td>102370.0</td>\n",
       "      <td>HomeImp</td>\n",
       "      <td>Office</td>\n",
       "      <td>2.0</td>\n",
       "      <td>0.0</td>\n",
       "      <td>0.0</td>\n",
       "      <td>90.992533</td>\n",
       "      <td>0.0</td>\n",
       "      <td>13.0</td>\n",
       "      <td>31.588503</td>\n",
       "    </tr>\n",
       "    <tr>\n",
       "      <th>25</th>\n",
       "      <td>1</td>\n",
       "      <td>2400</td>\n",
       "      <td>34863.0</td>\n",
       "      <td>HomeImp</td>\n",
       "      <td>Mgr</td>\n",
       "      <td>12.0</td>\n",
       "      <td>0.0</td>\n",
       "      <td>0.0</td>\n",
       "      <td>70.491080</td>\n",
       "      <td>1.0</td>\n",
       "      <td>21.0</td>\n",
       "      <td>38.263601</td>\n",
       "    </tr>\n",
       "    <tr>\n",
       "      <th>26</th>\n",
       "      <td>0</td>\n",
       "      <td>2400</td>\n",
       "      <td>98449.0</td>\n",
       "      <td>HomeImp</td>\n",
       "      <td>Office</td>\n",
       "      <td>4.0</td>\n",
       "      <td>0.0</td>\n",
       "      <td>0.0</td>\n",
       "      <td>93.811775</td>\n",
       "      <td>0.0</td>\n",
       "      <td>13.0</td>\n",
       "      <td>29.681827</td>\n",
       "    </tr>\n",
       "  </tbody>\n",
       "</table>\n",
       "</div>"
      ],
      "text/plain": [
       "    BAD  LOAN   MORTDUE   REASON     JOB   YOJ  DEROG  DELINQ       CLAGE  \\\n",
       "5     1  1700   30548.0  HomeImp   Other   9.0    0.0     0.0  101.466002   \n",
       "7     1  1800   28502.0  HomeImp   Other  11.0    0.0     0.0   88.766030   \n",
       "19    0  2300  102370.0  HomeImp  Office   2.0    0.0     0.0   90.992533   \n",
       "25    1  2400   34863.0  HomeImp     Mgr  12.0    0.0     0.0   70.491080   \n",
       "26    0  2400   98449.0  HomeImp  Office   4.0    0.0     0.0   93.811775   \n",
       "\n",
       "    NINQ  CLNO    DEBTINC  \n",
       "5    1.0   8.0  37.113614  \n",
       "7    0.0   8.0  36.884894  \n",
       "19   0.0  13.0  31.588503  \n",
       "25   1.0  21.0  38.263601  \n",
       "26   0.0  13.0  29.681827  "
      ]
     },
     "execution_count": 4,
     "metadata": {},
     "output_type": "execute_result"
    }
   ],
   "source": [
    "data.head()"
   ]
  },
  {
   "cell_type": "code",
   "execution_count": 5,
   "metadata": {},
   "outputs": [],
   "source": [
    "X = data.drop('BAD', axis=1)\n",
    "y = data['BAD']"
   ]
  },
  {
   "cell_type": "code",
   "execution_count": 6,
   "metadata": {},
   "outputs": [
    {
     "name": "stderr",
     "output_type": "stream",
     "text": [
      "/usr/local/lib/python3.7/site-packages/sklearn/preprocessing/_encoders.py:371: FutureWarning: The handling of integer data will change in version 0.22. Currently, the categories are determined based on the range [0, max(values)], while in the future they will be determined based on the unique values.\n",
      "If you want the future behaviour and silence this warning, you can specify \"categories='auto'\".\n",
      "In case you used a LabelEncoder before this OneHotEncoder to convert the categories to integers, then you can now use the OneHotEncoder directly.\n",
      "  warnings.warn(msg, FutureWarning)\n",
      "/usr/local/lib/python3.7/site-packages/sklearn/preprocessing/_encoders.py:392: DeprecationWarning: The 'categorical_features' keyword is deprecated in version 0.20 and will be removed in 0.22. You can use the ColumnTransformer instead.\n",
      "  \"use the ColumnTransformer instead.\", DeprecationWarning)\n"
     ]
    }
   ],
   "source": [
    "labelencoder = LabelEncoder()\n",
    "for col in X.columns:\n",
    "    X[col] = labelencoder.fit_transform(X[col])\n",
    "\n",
    "onehotencoder = OneHotEncoder(categorical_features = [2, 3])\n",
    "X = onehotencoder.fit_transform(X).toarray()"
   ]
  },
  {
   "cell_type": "code",
   "execution_count": null,
   "metadata": {},
   "outputs": [],
   "source": []
  },
  {
   "cell_type": "code",
   "execution_count": 11,
   "metadata": {},
   "outputs": [
    {
     "name": "stderr",
     "output_type": "stream",
     "text": [
      "/usr/local/Cellar/ipython/7.4.0/libexec/vendor/lib/python3.7/site-packages/ipykernel_launcher.py:17: UserWarning: Update your `Dense` call to the Keras 2 API: `Dense(activation=\"relu\", input_dim=17, units=6, kernel_initializer=\"uniform\")`\n",
      "/usr/local/Cellar/ipython/7.4.0/libexec/vendor/lib/python3.7/site-packages/ipykernel_launcher.py:19: UserWarning: Update your `Dense` call to the Keras 2 API: `Dense(activation=\"relu\", units=6, kernel_initializer=\"uniform\")`\n",
      "/usr/local/Cellar/ipython/7.4.0/libexec/vendor/lib/python3.7/site-packages/ipykernel_launcher.py:21: UserWarning: Update your `Dense` call to the Keras 2 API: `Dense(activation=\"sigmoid\", units=1, kernel_initializer=\"uniform\")`\n"
     ]
    }
   ],
   "source": [
    "from sklearn.model_selection import train_test_split\n",
    "import keras\n",
    "from keras.layers import Dense\n",
    "from keras.models import Sequential\n",
    "X_train, X_test, y_train, y_test = train_test_split(X, y, test_size = 0.2)\n",
    "\n",
    "from sklearn.preprocessing import StandardScaler\n",
    "sc = StandardScaler()\n",
    "X_train = sc.fit_transform(X_train)\n",
    "X_test = sc.transform(X_test)\n",
    "\n",
    "\n",
    "\n",
    "classifier = Sequential()\n",
    "\n",
    "# Adding the input layer and the first hidden layer\n",
    "classifier.add(Dense(output_dim = 6, init = 'uniform', activation = 'relu', input_dim = 17))\n",
    "# Adding the second hidden layer\n",
    "classifier.add(Dense(output_dim = 6, init = 'uniform', activation = 'relu'))\n",
    "# Adding the output layer\n",
    "classifier.add(Dense(output_dim = 1, init = 'uniform', activation = 'sigmoid'))"
   ]
  },
  {
   "cell_type": "code",
   "execution_count": 12,
   "metadata": {},
   "outputs": [
    {
     "name": "stdout",
     "output_type": "stream",
     "text": [
      "WARNING:tensorflow:From /usr/local/lib/python3.7/site-packages/tensorflow/python/ops/math_ops.py:3066: to_int32 (from tensorflow.python.ops.math_ops) is deprecated and will be removed in a future version.\n",
      "Instructions for updating:\n",
      "Use tf.cast instead.\n",
      "Epoch 1/100\n",
      "2691/2691 [==============================] - 1s 190us/step - loss: 0.4947 - acc: 0.9078\n",
      "Epoch 2/100\n",
      "2691/2691 [==============================] - 0s 102us/step - loss: 0.2574 - acc: 0.9104\n",
      "Epoch 3/100\n",
      "2691/2691 [==============================] - 0s 101us/step - loss: 0.2494 - acc: 0.9104\n",
      "Epoch 4/100\n",
      "2691/2691 [==============================] - 0s 99us/step - loss: 0.2463 - acc: 0.9104\n",
      "Epoch 5/100\n",
      "2691/2691 [==============================] - 0s 99us/step - loss: 0.2439 - acc: 0.9104\n",
      "Epoch 6/100\n",
      "2691/2691 [==============================] - 0s 102us/step - loss: 0.2417 - acc: 0.9104\n",
      "Epoch 7/100\n",
      "2691/2691 [==============================] - 0s 97us/step - loss: 0.2407 - acc: 0.9104\n",
      "Epoch 8/100\n",
      "2691/2691 [==============================] - 0s 96us/step - loss: 0.2390 - acc: 0.9104\n",
      "Epoch 9/100\n",
      "2691/2691 [==============================] - 0s 96us/step - loss: 0.2377 - acc: 0.9104\n",
      "Epoch 10/100\n",
      "2691/2691 [==============================] - 0s 96us/step - loss: 0.2375 - acc: 0.9104\n",
      "Epoch 11/100\n",
      "2691/2691 [==============================] - 0s 97us/step - loss: 0.2363 - acc: 0.9104\n",
      "Epoch 12/100\n",
      "2691/2691 [==============================] - 0s 95us/step - loss: 0.2353 - acc: 0.9104\n",
      "Epoch 13/100\n",
      "2691/2691 [==============================] - 0s 96us/step - loss: 0.2343 - acc: 0.9104\n",
      "Epoch 14/100\n",
      "2691/2691 [==============================] - 0s 96us/step - loss: 0.2337 - acc: 0.9130\n",
      "Epoch 15/100\n",
      "2691/2691 [==============================] - 0s 96us/step - loss: 0.2332 - acc: 0.9197\n",
      "Epoch 16/100\n",
      "2691/2691 [==============================] - 0s 98us/step - loss: 0.2322 - acc: 0.9227: 0s - loss: 0.2324 - acc: 0.921\n",
      "Epoch 17/100\n",
      "2691/2691 [==============================] - 0s 111us/step - loss: 0.2320 - acc: 0.9238\n",
      "Epoch 18/100\n",
      "2691/2691 [==============================] - 0s 96us/step - loss: 0.2318 - acc: 0.9231\n",
      "Epoch 19/100\n",
      "2691/2691 [==============================] - 0s 102us/step - loss: 0.2310 - acc: 0.9223\n",
      "Epoch 20/100\n",
      "2691/2691 [==============================] - 0s 103us/step - loss: 0.2305 - acc: 0.9246\n",
      "Epoch 21/100\n",
      "2691/2691 [==============================] - 0s 108us/step - loss: 0.2299 - acc: 0.9246\n",
      "Epoch 22/100\n",
      "2691/2691 [==============================] - 0s 101us/step - loss: 0.2296 - acc: 0.9260\n",
      "Epoch 23/100\n",
      "2691/2691 [==============================] - 0s 102us/step - loss: 0.2294 - acc: 0.9249\n",
      "Epoch 24/100\n",
      "2691/2691 [==============================] - 0s 102us/step - loss: 0.2287 - acc: 0.9249\n",
      "Epoch 25/100\n",
      "2691/2691 [==============================] - 0s 102us/step - loss: 0.2284 - acc: 0.9242\n",
      "Epoch 26/100\n",
      "2691/2691 [==============================] - 0s 100us/step - loss: 0.2286 - acc: 0.9253\n",
      "Epoch 27/100\n",
      "2691/2691 [==============================] - 0s 101us/step - loss: 0.2280 - acc: 0.9249\n",
      "Epoch 28/100\n",
      "2691/2691 [==============================] - 0s 101us/step - loss: 0.2274 - acc: 0.9249\n",
      "Epoch 29/100\n",
      "2691/2691 [==============================] - 0s 102us/step - loss: 0.2267 - acc: 0.9253\n",
      "Epoch 30/100\n",
      "2691/2691 [==============================] - 0s 103us/step - loss: 0.2271 - acc: 0.9246\n",
      "Epoch 31/100\n",
      "2691/2691 [==============================] - 0s 115us/step - loss: 0.2267 - acc: 0.9242\n",
      "Epoch 32/100\n",
      "2691/2691 [==============================] - 0s 105us/step - loss: 0.2266 - acc: 0.9242\n",
      "Epoch 33/100\n",
      "2691/2691 [==============================] - 0s 99us/step - loss: 0.2262 - acc: 0.9246\n",
      "Epoch 34/100\n",
      "2691/2691 [==============================] - 0s 98us/step - loss: 0.2259 - acc: 0.9238\n",
      "Epoch 35/100\n",
      "2691/2691 [==============================] - 0s 98us/step - loss: 0.2262 - acc: 0.9246\n",
      "Epoch 36/100\n",
      "2691/2691 [==============================] - 0s 99us/step - loss: 0.2256 - acc: 0.9246\n",
      "Epoch 37/100\n",
      "2691/2691 [==============================] - 0s 99us/step - loss: 0.2250 - acc: 0.9246\n",
      "Epoch 38/100\n",
      "2691/2691 [==============================] - 0s 99us/step - loss: 0.2254 - acc: 0.9253\n",
      "Epoch 39/100\n",
      "2691/2691 [==============================] - 0s 98us/step - loss: 0.2251 - acc: 0.9246\n",
      "Epoch 40/100\n",
      "2691/2691 [==============================] - 0s 97us/step - loss: 0.2248 - acc: 0.9253\n",
      "Epoch 41/100\n",
      "2691/2691 [==============================] - 0s 100us/step - loss: 0.2246 - acc: 0.9264\n",
      "Epoch 42/100\n",
      "2691/2691 [==============================] - 0s 98us/step - loss: 0.2247 - acc: 0.9238\n",
      "Epoch 43/100\n",
      "2691/2691 [==============================] - 0s 106us/step - loss: 0.2238 - acc: 0.9253\n",
      "Epoch 44/100\n",
      "2691/2691 [==============================] - 0s 101us/step - loss: 0.2238 - acc: 0.9246\n",
      "Epoch 45/100\n",
      "2691/2691 [==============================] - 0s 98us/step - loss: 0.2248 - acc: 0.9257\n",
      "Epoch 46/100\n",
      "2691/2691 [==============================] - 0s 91us/step - loss: 0.2238 - acc: 0.9257\n",
      "Epoch 47/100\n",
      "2691/2691 [==============================] - 0s 92us/step - loss: 0.2239 - acc: 0.9253\n",
      "Epoch 48/100\n",
      "2691/2691 [==============================] - 0s 98us/step - loss: 0.2235 - acc: 0.9260\n",
      "Epoch 49/100\n",
      "2691/2691 [==============================] - 0s 101us/step - loss: 0.2232 - acc: 0.9249\n",
      "Epoch 50/100\n",
      "2691/2691 [==============================] - 0s 101us/step - loss: 0.2239 - acc: 0.9249\n",
      "Epoch 51/100\n",
      "2691/2691 [==============================] - 0s 135us/step - loss: 0.2234 - acc: 0.9264\n",
      "Epoch 52/100\n",
      "2691/2691 [==============================] - 0s 122us/step - loss: 0.2238 - acc: 0.9268\n",
      "Epoch 53/100\n",
      "2691/2691 [==============================] - ETA: 0s - loss: 0.2226 - acc: 0.924 - 0s 94us/step - loss: 0.2231 - acc: 0.9234\n",
      "Epoch 54/100\n",
      "2691/2691 [==============================] - 0s 97us/step - loss: 0.2228 - acc: 0.9253\n",
      "Epoch 55/100\n",
      "2691/2691 [==============================] - 0s 101us/step - loss: 0.2230 - acc: 0.9264\n",
      "Epoch 56/100\n",
      "2691/2691 [==============================] - 0s 113us/step - loss: 0.2223 - acc: 0.9260\n",
      "Epoch 57/100\n",
      "2691/2691 [==============================] - 0s 98us/step - loss: 0.2222 - acc: 0.9257\n",
      "Epoch 58/100\n",
      "2691/2691 [==============================] - 0s 114us/step - loss: 0.2220 - acc: 0.9260\n",
      "Epoch 59/100\n",
      "2691/2691 [==============================] - 0s 92us/step - loss: 0.2221 - acc: 0.9260\n",
      "Epoch 60/100\n",
      "2691/2691 [==============================] - 0s 95us/step - loss: 0.2215 - acc: 0.9264\n",
      "Epoch 61/100\n",
      "2691/2691 [==============================] - 0s 93us/step - loss: 0.2221 - acc: 0.9260\n",
      "Epoch 62/100\n",
      "2691/2691 [==============================] - 0s 103us/step - loss: 0.2219 - acc: 0.9264\n",
      "Epoch 63/100\n",
      "2691/2691 [==============================] - 0s 89us/step - loss: 0.2212 - acc: 0.9275\n",
      "Epoch 64/100\n",
      "2691/2691 [==============================] - 0s 88us/step - loss: 0.2210 - acc: 0.9283\n",
      "Epoch 65/100\n",
      "2691/2691 [==============================] - 0s 94us/step - loss: 0.2218 - acc: 0.9272\n",
      "Epoch 66/100\n",
      "2691/2691 [==============================] - 0s 86us/step - loss: 0.2213 - acc: 0.9275\n",
      "Epoch 67/100\n",
      "2691/2691 [==============================] - 0s 88us/step - loss: 0.2205 - acc: 0.9268\n",
      "Epoch 68/100\n",
      "2691/2691 [==============================] - 0s 88us/step - loss: 0.2205 - acc: 0.9283\n",
      "Epoch 69/100\n",
      "2691/2691 [==============================] - 0s 88us/step - loss: 0.2203 - acc: 0.9268\n",
      "Epoch 70/100\n",
      "2691/2691 [==============================] - 0s 88us/step - loss: 0.2206 - acc: 0.9287\n",
      "Epoch 71/100\n",
      "2691/2691 [==============================] - 0s 88us/step - loss: 0.2203 - acc: 0.9268\n",
      "Epoch 72/100\n",
      "2691/2691 [==============================] - 0s 91us/step - loss: 0.2200 - acc: 0.9275\n",
      "Epoch 73/100\n",
      "2691/2691 [==============================] - 0s 88us/step - loss: 0.2199 - acc: 0.9275\n",
      "Epoch 74/100\n",
      "2691/2691 [==============================] - 0s 88us/step - loss: 0.2197 - acc: 0.9279\n",
      "Epoch 75/100\n",
      "2691/2691 [==============================] - 0s 87us/step - loss: 0.2197 - acc: 0.9272\n",
      "Epoch 76/100\n",
      "2691/2691 [==============================] - 0s 90us/step - loss: 0.2195 - acc: 0.9272\n",
      "Epoch 77/100\n",
      "2691/2691 [==============================] - 0s 96us/step - loss: 0.2195 - acc: 0.9287\n",
      "Epoch 78/100\n",
      "2691/2691 [==============================] - 0s 91us/step - loss: 0.2186 - acc: 0.9275\n",
      "Epoch 79/100\n"
     ]
    },
    {
     "name": "stdout",
     "output_type": "stream",
     "text": [
      "2691/2691 [==============================] - 0s 98us/step - loss: 0.2190 - acc: 0.9283\n",
      "Epoch 80/100\n",
      "2691/2691 [==============================] - 0s 97us/step - loss: 0.2184 - acc: 0.9290\n",
      "Epoch 81/100\n",
      "2691/2691 [==============================] - 0s 89us/step - loss: 0.2187 - acc: 0.9275\n",
      "Epoch 82/100\n",
      "2691/2691 [==============================] - 0s 88us/step - loss: 0.2181 - acc: 0.9283\n",
      "Epoch 83/100\n",
      "2691/2691 [==============================] - 0s 87us/step - loss: 0.2182 - acc: 0.9287\n",
      "Epoch 84/100\n",
      "2691/2691 [==============================] - 0s 87us/step - loss: 0.2176 - acc: 0.9283\n",
      "Epoch 85/100\n",
      "2691/2691 [==============================] - 0s 89us/step - loss: 0.2176 - acc: 0.9279\n",
      "Epoch 86/100\n",
      "2691/2691 [==============================] - 0s 91us/step - loss: 0.2178 - acc: 0.9268\n",
      "Epoch 87/100\n",
      "2691/2691 [==============================] - 0s 91us/step - loss: 0.2178 - acc: 0.9279\n",
      "Epoch 88/100\n",
      "2691/2691 [==============================] - 0s 88us/step - loss: 0.2170 - acc: 0.9275\n",
      "Epoch 89/100\n",
      "2691/2691 [==============================] - 0s 89us/step - loss: 0.2171 - acc: 0.9283\n",
      "Epoch 90/100\n",
      "2691/2691 [==============================] - 0s 89us/step - loss: 0.2169 - acc: 0.9275\n",
      "Epoch 91/100\n",
      "2691/2691 [==============================] - 0s 89us/step - loss: 0.2169 - acc: 0.9283\n",
      "Epoch 92/100\n",
      "2691/2691 [==============================] - 0s 102us/step - loss: 0.2166 - acc: 0.9287\n",
      "Epoch 93/100\n",
      "2691/2691 [==============================] - 0s 93us/step - loss: 0.2164 - acc: 0.9279\n",
      "Epoch 94/100\n",
      "2691/2691 [==============================] - 0s 91us/step - loss: 0.2162 - acc: 0.9287\n",
      "Epoch 95/100\n",
      "2691/2691 [==============================] - 0s 85us/step - loss: 0.2160 - acc: 0.9279\n",
      "Epoch 96/100\n",
      "2691/2691 [==============================] - 0s 96us/step - loss: 0.2159 - acc: 0.9272\n",
      "Epoch 97/100\n",
      "2691/2691 [==============================] - 0s 88us/step - loss: 0.2159 - acc: 0.9290\n",
      "Epoch 98/100\n",
      "2691/2691 [==============================] - 0s 95us/step - loss: 0.2155 - acc: 0.9290\n",
      "Epoch 99/100\n",
      "2691/2691 [==============================] - 0s 95us/step - loss: 0.2157 - acc: 0.9290\n",
      "Epoch 100/100\n",
      "2691/2691 [==============================] - 0s 113us/step - loss: 0.2154 - acc: 0.9275\n"
     ]
    },
    {
     "data": {
      "text/plain": [
       "<keras.callbacks.History at 0x1317514e0>"
      ]
     },
     "execution_count": 12,
     "metadata": {},
     "output_type": "execute_result"
    }
   ],
   "source": [
    "# Compiling Neural Network\n",
    "classifier.compile(optimizer = 'adam', loss = 'binary_crossentropy', metrics = ['accuracy'])\n",
    "\n",
    "# Fitting our model \n",
    "classifier.fit(X_train, y_train, batch_size = 10, epochs = 100)"
   ]
  },
  {
   "cell_type": "code",
   "execution_count": 19,
   "metadata": {},
   "outputs": [
    {
     "name": "stdout",
     "output_type": "stream",
     "text": [
      "Confusion matrix, without normalization\n",
      "[[612   2]\n",
      " [ 48  11]]\n"
     ]
    },
    {
     "data": {
      "image/png": "[encoded data removed]",
      "text/plain": [
       "<Figure size 720x576 with 2 Axes>"
      ]
     },
     "metadata": {
      "needs_background": "light"
     },
     "output_type": "display_data"
    }
   ],
   "source": [
    "import itertools\n",
    "from sklearn.metrics import precision_recall_curve, classification_report, confusion_matrix, roc_curve, roc_auc_score, accuracy_score\n",
    "\n",
    "# Predicting the Test set results\n",
    "y_pred = classifier.predict(X_test)\n",
    "y_pred = (y_pred > 0.5)\n",
    "\n",
    "# Creating the Confusion Matrix\n",
    "from sklearn.metrics import confusion_matrix\n",
    "cm = confusion_matrix(y_test, y_pred)\n",
    "\n",
    "def plot_confusion_matrix(cm, classes,\n",
    "                          normalize=False,\n",
    "                          title='Confusion matrix',\n",
    "                          cmap=plt.cm.Blues):\n",
    "    \"\"\"\n",
    "    This function prints and plots the confusion matrix.\n",
    "    Normalization can be applied by setting `normalize=True`.\n",
    "    \"\"\"\n",
    "    plt.imshow(cm, interpolation='nearest', cmap=cmap)\n",
    "    plt.title(title)\n",
    "    plt.colorbar()\n",
    "    tick_marks = np.arange(len(classes))\n",
    "    plt.xticks(tick_marks, classes, rotation=45)\n",
    "    plt.yticks(tick_marks, classes)\n",
    "\n",
    "    if normalize:\n",
    "        cm = cm.astype('float') / cm.sum(axis=1)[:, np.newaxis]\n",
    "        print(\"Normalized confusion matrix\")\n",
    "    else:\n",
    "        print('Confusion matrix, without normalization')\n",
    "\n",
    "    print(cm)\n",
    "\n",
    "    thresh = cm.max() / 2.\n",
    "    for i, j in itertools.product(range(cm.shape[0]), range(cm.shape[1])):\n",
    "        plt.text(j, i, cm[i, j],\n",
    "                 horizontalalignment=\"center\",\n",
    "                 color=\"white\" if cm[i, j] > thresh else \"black\")\n",
    "\n",
    "    plt.tight_layout()\n",
    "    plt.ylabel('True label')\n",
    "    plt.xlabel('Predicted label')\n",
    "\n",
    "font = {'size' : 15}\n",
    "\n",
    "plt.rc('font', **font)\n",
    "\n",
    "plt.figure(figsize=(10, 8))\n",
    "plot_confusion_matrix(cm, classes=['Non-bad', 'Bad'], title='Confusion matrix')\n",
    "plt.savefig(\"conf_matrix.png\")\n",
    "plt.show()"
   ]
  },
  {
   "cell_type": "code",
   "execution_count": 20,
   "metadata": {},
   "outputs": [
    {
     "name": "stdout",
     "output_type": "stream",
     "text": [
      "              precision    recall  f1-score   support\n",
      "\n",
      "     Non-bad       0.93      1.00      0.96       614\n",
      "         Bad       0.85      0.19      0.31        59\n",
      "\n",
      "   micro avg       0.93      0.93      0.93       673\n",
      "   macro avg       0.89      0.59      0.63       673\n",
      "weighted avg       0.92      0.93      0.90       673\n",
      "\n"
     ]
    }
   ],
   "source": [
    "report = classification_report(y_test, y_pred, target_names=['Non-bad', 'Bad'])\n",
    "print(report)"
   ]
  },
  {
   "cell_type": "code",
   "execution_count": 23,
   "metadata": {},
   "outputs": [
    {
     "data": {
      "image/png": "[encoded data removed]",
      "text/plain": [
       "<Figure size 720x576 with 1 Axes>"
      ]
     },
     "metadata": {},
     "output_type": "display_data"
    }
   ],
   "source": [
    "import seaborn as sns\n",
    "\n",
    "sns.set(font_scale=1.5)\n",
    "sns.set_color_codes(\"muted\")\n",
    "\n",
    "plt.figure(figsize=(10, 8))\n",
    "fpr, tpr, thresholds = roc_curve(y_test, classifier.predict_proba(X_test)[:,0], pos_label=1)\n",
    "lw = 2\n",
    "plt.plot(fpr, tpr, lw=lw, label='ROC curve ')\n",
    "plt.plot([0, 1], [0, 1])\n",
    "plt.xlim([0.0, 1.0])\n",
    "plt.ylim([0.0, 1.05])\n",
    "plt.xlabel('False Positive Rate')\n",
    "plt.ylabel('True Positive Rate')\n",
    "plt.title('ROC curve')\n",
    "plt.savefig(\"ROC.png\")\n",
    "plt.show()"
   ]
  },
  {
   "cell_type": "code",
   "execution_count": 24,
   "metadata": {},
   "outputs": [
    {
     "name": "stdout",
     "output_type": "stream",
     "text": [
      "ROC_AUC:\n"
     ]
    },
    {
     "data": {
      "text/plain": [
       "0.7853889471650196"
      ]
     },
     "execution_count": 24,
     "metadata": {},
     "output_type": "execute_result"
    }
   ],
   "source": [
    "auc_roc=roc_auc_score(y_test, classifier.predict_proba(X_test)[:,0])\n",
    "print(\"ROC_AUC:\")\n",
    "auc_roc"
   ]
  },
  {
   "cell_type": "code",
   "execution_count": 25,
   "metadata": {},
   "outputs": [
    {
     "name": "stdout",
     "output_type": "stream",
     "text": [
      "Accuracy: \n"
     ]
    },
    {
     "data": {
      "text/plain": [
       "0.9257057949479941"
      ]
     },
     "execution_count": 25,
     "metadata": {},
     "output_type": "execute_result"
    }
   ],
   "source": [
    "print(\"Accuracy: \")\n",
    "accuracy_score(y_test, y_pred)"
   ]
  },
  {
   "cell_type": "code",
   "execution_count": null,
   "metadata": {},
   "outputs": [],
   "source": []
  }
 ],
 "metadata": {
  "kernelspec": {
   "display_name": "Python 3",
   "language": "python",
   "name": "python3"
  },
  "language_info": {
   "codemirror_mode": {
    "name": "ipython",
    "version": 3
   },
   "file_extension": ".py",
   "mimetype": "text/x-python",
   "name": "python",
   "nbconvert_exporter": "python",
   "pygments_lexer": "ipython3",
   "version": "3.7.3"
  }
 },
 "nbformat": 4,
 "nbformat_minor": 2
}
